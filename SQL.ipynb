{
 "cells": [
  {
   "cell_type": "markdown",
   "id": "30b370d0-1475-4e64-a2bf-3c9dca12a77f",
   "metadata": {},
   "source": [
    "## Задача 1"
   ]
  },
  {
   "cell_type": "code",
   "execution_count": null,
   "id": "1d068a67-97ba-47c4-8b4f-f0e8a854292f",
   "metadata": {},
   "outputs": [],
   "source": [
    "Условие:\n",
    "\n",
    "CREATE TABLE Transactions (\n",
    "  Client_id INT NOT NULL,\n",
    "  Report_date DATE,\n",
    "  Txn_amount INT \n",
    ");\n",
    "\n",
    "\n",
    "INSERT INTO Transactions\n",
    "    (Client_id, Report_date, Txn_amount)\n",
    "VALUES\n",
    "    (123, '2017.01.01', 50000);\n",
    "    \n",
    "\n",
    "CREATE TABLE Rates (\n",
    "  Report_date DATE,\n",
    "  Ccy_code INT,\n",
    "  CCy_rate DECIMAL(5,2) \n",
    ");\n",
    "\n",
    "INSERT INTO Rates\n",
    "VALUES\n",
    "    ('2016.12.30', 840, 60.58),\n",
    "    ('2017.01.09', 840, 61.01);\n",
    "   "
   ]
  },
  {
   "cell_type": "code",
   "execution_count": null,
   "id": "62d161f5-6263-4545-ba89-2a269a72a903",
   "metadata": {},
   "outputs": [],
   "source": [
    "Задание: Напишите sql запрос, который будет переводить сумму транзакций в usd (ccy_code = 840) \n",
    "с учетом того, что в таблице rates данные только за рабочие дни. Транзакции, совершенные в \n",
    "выходные, пересчитываются по курсу последнего рабочего дня перед праздником/выходным. \n",
    "Результат: Клиент, дата, сумма операций в usd.\n",
    "\n",
    "Запрос:\n",
    "\n",
    "SELECT Client_id, Report_date, Txn_amount *\n",
    "    (SELECT CCy_rate\n",
    "     FROM Rates\n",
    "     WHERE Rates.Report_date <= Transactions.Report_date AND Rates.Ccy_code = 840 ORDER BY Rates.Report_date \n",
    "     DESC LIMIT 1) AS Txn_amount_USD\n",
    "\n",
    "FROM Transactions;"
   ]
  },
  {
   "cell_type": "markdown",
   "id": "fb503738-bc61-4e7c-8edd-5dff40877397",
   "metadata": {},
   "source": [
    "## Задача 2."
   ]
  },
  {
   "cell_type": "code",
   "execution_count": null,
   "id": "69eb4e5f-8ae0-49d1-9b1d-e3d810719419",
   "metadata": {},
   "outputs": [],
   "source": [
    "Условие:\n",
    "\n",
    "CREATE TABLE VSP_oper_data (\n",
    "  Client_id INT,\n",
    "  Report_date DATE,\n",
    "  VSP_Number VARCHAR(10),\n",
    "  Txn_type VARCHAR(10),\n",
    "  Txn_amount INT\n",
    ");\n",
    "\n",
    "INSERT INTO VSP_oper_data (Client_id, Report_date, VSP_Number, Txn_type, Txn_amount)\n",
    "VALUES\n",
    "    -- May 1\n",
    "    (1001, '2017-05-01', '1234/0123', 'debit', 5000),\n",
    "    (1002, '2017-05-01', '5678/0456', 'credit', 3000),\n",
    "    -- May 2\n",
    "    (1002, '2017-05-02', '5678/0456', 'debit', 2000),\n",
    "    (1003, '2017-05-02', '9101/0789', 'credit', 6000),\n",
    "    -- May 30\n",
    "    (1001, '2017-05-30', '1234/0123', 'credit', 8000),\n",
    "    (1002, '2017-05-30', '5678/0456', 'debit', 2000),\n",
    "    (1003, '2017-05-30', '9101/0789', 'credit', 6000),\n",
    "    -- May 31\n",
    "    (1001, '2017-05-31', '1234/0123', 'debit', 5000),\n",
    "    (1003, '2017-05-31', '9101/0789', 'debit', 8000),\n",
    "\n",
    "    -- June 1\n",
    "    (1001, '2017-06-01', '1234/0123', 'debit', 4000),\n",
    "    (1003, '2017-06-01', '9101/0789', 'debit', 7000),\n",
    "    -- June 2\n",
    "    (1001, '2017-06-02', '1234/0123', 'credit', 3500),\n",
    "    (1002, '2017-06-02', '5678/0456', 'debit', 1800),\n",
    "    (1007, '2017-06-02', '9101/0789', 'credit', 6500),\n",
    "\n",
    "    -- June 30\n",
    "    (1001, '2017-06-30', '1234/0123', 'debit', 4500),\n",
    "    (1004, '2017-06-30', '5678/0456', 'credit', 2700),\n",
    "    (1005, '2017-06-30', '9101/0789', 'debit', 7200);"
   ]
  },
  {
   "cell_type": "code",
   "execution_count": null,
   "id": "b003191f-f2a6-4ad7-9337-ca7a46bcac1c",
   "metadata": {},
   "outputs": [],
   "source": [
    "Задание: напишите sql запрос, который для каждого клиента выводит сумму debit, credit операций \n",
    "и последнее посещенное VSP по месяцам\n",
    "\n",
    "Запрос:\n",
    "\n",
    "SELECT Client_id, DATE_FORMAT(Report_date, '%Y-%m') AS Report_date_,\n",
    "\n",
    "\n",
    "SUM(CASE WHEN Txn_type=\"debit\" THEN Txn_amount ELSE 0 END) AS Debit_amount, SUM(CASE WHEN Txn_type=\"credit\" THEN Txn_amount ELSE 0 END) AS Credit_amount, \n",
    "(select VSP_Number\n",
    " from VSP_oper_data t\n",
    " where t.Client_id = main.Client_id and DATE_FORMAT(t.Report_date, '%Y-%m') = Report_date_ \n",
    " ORDER BY Report_date DESC LIMIT 1) AS Last_VSP\n",
    "\n",
    "FROM VSP_oper_data main\n",
    "GROUP BY Client_id, DATE_FORMAT(Report_date, '%Y-%m');"
   ]
  },
  {
   "cell_type": "code",
   "execution_count": null,
   "id": "eae26734-c7cc-4edd-bbcd-73dc75635132",
   "metadata": {},
   "outputs": [],
   "source": [
    "Задание: напишите sql запрос, который для каждого клиента выведет долю debit операций \n",
    "клиента к debit операциям всех клиентов по месяцам. \n",
    "\n",
    "Запрос:\n",
    "\n",
    "SELECT Client_id, DATE_FORMAT(Report_date, '%Y-%m') AS Report_date_,\n",
    "SUM(CASE WHEN Txn_type=\"debit\" THEN Txn_amount ELSE 0 END) /\n",
    "(SELECT SUM(CASE WHEN Txn_type=\"debit\" THEN Txn_amount ELSE 0 END) FROM VSP_oper_data t WHERE DATE_FORMAT(t.Report_date, '%Y-%m') = Report_date_) AS Ratio\n",
    "\n",
    "FROM VSP_oper_data main\n",
    "GROUP BY Client_id, DATE_FORMAT(Report_date, '%Y-%m');"
   ]
  }
 ],
 "metadata": {
  "kernelspec": {
   "display_name": "",
   "name": ""
  },
  "language_info": {
   "name": ""
  }
 },
 "nbformat": 4,
 "nbformat_minor": 5
}
